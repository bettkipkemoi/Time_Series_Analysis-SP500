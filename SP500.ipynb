{
 "cells": [
  {
   "cell_type": "code",
   "execution_count": 1,
   "id": "1159b171-32e9-4abf-be8c-e40510430774",
   "metadata": {},
   "outputs": [],
   "source": [
    "#import libraries\n",
    "import pandas as pd\n",
    "import matplotlib.pyplot as plt\n",
    "import numpy as np\n",
    "from sklearn.linear_model import LinearRegression\n",
    "from sklearn.model_selection import train_test_split\n",
    "import sklearn.metrics as metrics\n",
    "import math\n",
    "\n",
    "#import the data\n",
    "df = pd.read_csv('S&P500.csv')\n"
   ]
  },
  {
   "cell_type": "code",
   "execution_count": 2,
   "id": "812bd78a-1484-437b-988e-2a12efceb1b8",
   "metadata": {},
   "outputs": [
    {
     "data": {
      "text/html": [
       "<div>\n",
       "<style scoped>\n",
       "    .dataframe tbody tr th:only-of-type {\n",
       "        vertical-align: middle;\n",
       "    }\n",
       "\n",
       "    .dataframe tbody tr th {\n",
       "        vertical-align: top;\n",
       "    }\n",
       "\n",
       "    .dataframe thead th {\n",
       "        text-align: right;\n",
       "    }\n",
       "</style>\n",
       "<table border=\"1\" class=\"dataframe\">\n",
       "  <thead>\n",
       "    <tr style=\"text-align: right;\">\n",
       "      <th></th>\n",
       "      <th>Date</th>\n",
       "      <th>Open</th>\n",
       "      <th>High</th>\n",
       "      <th>Low</th>\n",
       "      <th>Close</th>\n",
       "      <th>AdjClose</th>\n",
       "      <th>Volume</th>\n",
       "    </tr>\n",
       "  </thead>\n",
       "  <tbody>\n",
       "    <tr>\n",
       "      <th>0</th>\n",
       "      <td>01/06/2022</td>\n",
       "      <td>4149.78</td>\n",
       "      <td>4166.54</td>\n",
       "      <td>4073.85</td>\n",
       "      <td>4101.23</td>\n",
       "      <td>4101.23</td>\n",
       "      <td>4531800000</td>\n",
       "    </tr>\n",
       "    <tr>\n",
       "      <th>1</th>\n",
       "      <td>02/06/2022</td>\n",
       "      <td>4095.41</td>\n",
       "      <td>4177.51</td>\n",
       "      <td>4074.37</td>\n",
       "      <td>4176.82</td>\n",
       "      <td>4176.82</td>\n",
       "      <td>4405790000</td>\n",
       "    </tr>\n",
       "    <tr>\n",
       "      <th>2</th>\n",
       "      <td>03/06/2022</td>\n",
       "      <td>4137.57</td>\n",
       "      <td>4142.67</td>\n",
       "      <td>4098.67</td>\n",
       "      <td>4108.54</td>\n",
       "      <td>4108.54</td>\n",
       "      <td>3711110000</td>\n",
       "    </tr>\n",
       "    <tr>\n",
       "      <th>3</th>\n",
       "      <td>06/06/2022</td>\n",
       "      <td>4134.72</td>\n",
       "      <td>4168.78</td>\n",
       "      <td>4109.18</td>\n",
       "      <td>4121.43</td>\n",
       "      <td>4121.43</td>\n",
       "      <td>4332700000</td>\n",
       "    </tr>\n",
       "    <tr>\n",
       "      <th>4</th>\n",
       "      <td>07/06/2022</td>\n",
       "      <td>4096.47</td>\n",
       "      <td>4164.86</td>\n",
       "      <td>4080.19</td>\n",
       "      <td>4160.68</td>\n",
       "      <td>4160.68</td>\n",
       "      <td>4248210000</td>\n",
       "    </tr>\n",
       "    <tr>\n",
       "      <th>5</th>\n",
       "      <td>08/06/2022</td>\n",
       "      <td>4147.12</td>\n",
       "      <td>4160.14</td>\n",
       "      <td>4107.20</td>\n",
       "      <td>4115.77</td>\n",
       "      <td>4115.77</td>\n",
       "      <td>4159470000</td>\n",
       "    </tr>\n",
       "    <tr>\n",
       "      <th>6</th>\n",
       "      <td>09/06/2022</td>\n",
       "      <td>4101.65</td>\n",
       "      <td>4119.10</td>\n",
       "      <td>4017.17</td>\n",
       "      <td>4017.82</td>\n",
       "      <td>4017.82</td>\n",
       "      <td>4134170000</td>\n",
       "    </tr>\n",
       "    <tr>\n",
       "      <th>7</th>\n",
       "      <td>10/06/2022</td>\n",
       "      <td>3974.39</td>\n",
       "      <td>3974.39</td>\n",
       "      <td>3900.16</td>\n",
       "      <td>3900.86</td>\n",
       "      <td>3900.86</td>\n",
       "      <td>4889640000</td>\n",
       "    </tr>\n",
       "    <tr>\n",
       "      <th>8</th>\n",
       "      <td>13/06/2022</td>\n",
       "      <td>3838.15</td>\n",
       "      <td>3838.15</td>\n",
       "      <td>3734.30</td>\n",
       "      <td>3749.63</td>\n",
       "      <td>3749.63</td>\n",
       "      <td>5636890000</td>\n",
       "    </tr>\n",
       "    <tr>\n",
       "      <th>9</th>\n",
       "      <td>14/06/2022</td>\n",
       "      <td>3763.52</td>\n",
       "      <td>3778.18</td>\n",
       "      <td>3705.68</td>\n",
       "      <td>3735.48</td>\n",
       "      <td>3735.48</td>\n",
       "      <td>5153890000</td>\n",
       "    </tr>\n",
       "  </tbody>\n",
       "</table>\n",
       "</div>"
      ],
      "text/plain": [
       "         Date     Open     High      Low    Close  AdjClose      Volume\n",
       "0  01/06/2022  4149.78  4166.54  4073.85  4101.23   4101.23  4531800000\n",
       "1  02/06/2022  4095.41  4177.51  4074.37  4176.82   4176.82  4405790000\n",
       "2  03/06/2022  4137.57  4142.67  4098.67  4108.54   4108.54  3711110000\n",
       "3  06/06/2022  4134.72  4168.78  4109.18  4121.43   4121.43  4332700000\n",
       "4  07/06/2022  4096.47  4164.86  4080.19  4160.68   4160.68  4248210000\n",
       "5  08/06/2022  4147.12  4160.14  4107.20  4115.77   4115.77  4159470000\n",
       "6  09/06/2022  4101.65  4119.10  4017.17  4017.82   4017.82  4134170000\n",
       "7  10/06/2022  3974.39  3974.39  3900.16  3900.86   3900.86  4889640000\n",
       "8  13/06/2022  3838.15  3838.15  3734.30  3749.63   3749.63  5636890000\n",
       "9  14/06/2022  3763.52  3778.18  3705.68  3735.48   3735.48  5153890000"
      ]
     },
     "execution_count": 2,
     "metadata": {},
     "output_type": "execute_result"
    }
   ],
   "source": [
    "df.head(10)"
   ]
  },
  {
   "cell_type": "code",
   "execution_count": 3,
   "id": "f1522002-1882-46e4-845b-0f958514c02f",
   "metadata": {},
   "outputs": [
    {
     "data": {
      "text/plain": [
       "(250, 7)"
      ]
     },
     "execution_count": 3,
     "metadata": {},
     "output_type": "execute_result"
    }
   ],
   "source": [
    "df.shape"
   ]
  },
  {
   "cell_type": "code",
   "execution_count": 4,
   "id": "02d10424-80a3-4407-8e03-650d7a843e91",
   "metadata": {},
   "outputs": [
    {
     "data": {
      "text/html": [
       "<div>\n",
       "<style scoped>\n",
       "    .dataframe tbody tr th:only-of-type {\n",
       "        vertical-align: middle;\n",
       "    }\n",
       "\n",
       "    .dataframe tbody tr th {\n",
       "        vertical-align: top;\n",
       "    }\n",
       "\n",
       "    .dataframe thead th {\n",
       "        text-align: right;\n",
       "    }\n",
       "</style>\n",
       "<table border=\"1\" class=\"dataframe\">\n",
       "  <thead>\n",
       "    <tr style=\"text-align: right;\">\n",
       "      <th></th>\n",
       "      <th>Open</th>\n",
       "      <th>High</th>\n",
       "      <th>Low</th>\n",
       "      <th>Close</th>\n",
       "      <th>AdjClose</th>\n",
       "      <th>Volume</th>\n",
       "    </tr>\n",
       "  </thead>\n",
       "  <tbody>\n",
       "    <tr>\n",
       "      <th>count</th>\n",
       "      <td>250.000000</td>\n",
       "      <td>250.00000</td>\n",
       "      <td>250.000000</td>\n",
       "      <td>250.000000</td>\n",
       "      <td>250.000000</td>\n",
       "      <td>2.500000e+02</td>\n",
       "    </tr>\n",
       "    <tr>\n",
       "      <th>mean</th>\n",
       "      <td>3969.242720</td>\n",
       "      <td>3998.85440</td>\n",
       "      <td>3939.132480</td>\n",
       "      <td>3970.570160</td>\n",
       "      <td>3970.570160</td>\n",
       "      <td>4.304416e+09</td>\n",
       "    </tr>\n",
       "    <tr>\n",
       "      <th>std</th>\n",
       "      <td>157.323586</td>\n",
       "      <td>151.78192</td>\n",
       "      <td>162.596673</td>\n",
       "      <td>158.873377</td>\n",
       "      <td>158.873377</td>\n",
       "      <td>8.484101e+08</td>\n",
       "    </tr>\n",
       "    <tr>\n",
       "      <th>min</th>\n",
       "      <td>3520.370000</td>\n",
       "      <td>3608.34000</td>\n",
       "      <td>3491.580000</td>\n",
       "      <td>3577.030000</td>\n",
       "      <td>3577.030000</td>\n",
       "      <td>1.706460e+09</td>\n",
       "    </tr>\n",
       "    <tr>\n",
       "      <th>25%</th>\n",
       "      <td>3852.990000</td>\n",
       "      <td>3890.09250</td>\n",
       "      <td>3817.542500</td>\n",
       "      <td>3854.762500</td>\n",
       "      <td>3854.762500</td>\n",
       "      <td>3.857698e+09</td>\n",
       "    </tr>\n",
       "    <tr>\n",
       "      <th>50%</th>\n",
       "      <td>3977.380000</td>\n",
       "      <td>4008.31500</td>\n",
       "      <td>3944.815000</td>\n",
       "      <td>3978.700000</td>\n",
       "      <td>3978.700000</td>\n",
       "      <td>4.143730e+09</td>\n",
       "    </tr>\n",
       "    <tr>\n",
       "      <th>75%</th>\n",
       "      <td>4105.065000</td>\n",
       "      <td>4136.29000</td>\n",
       "      <td>4084.465000</td>\n",
       "      <td>4109.752500</td>\n",
       "      <td>4109.752500</td>\n",
       "      <td>4.532708e+09</td>\n",
       "    </tr>\n",
       "    <tr>\n",
       "      <th>max</th>\n",
       "      <td>4290.460000</td>\n",
       "      <td>4325.28000</td>\n",
       "      <td>4277.770000</td>\n",
       "      <td>4305.200000</td>\n",
       "      <td>4305.200000</td>\n",
       "      <td>9.354280e+09</td>\n",
       "    </tr>\n",
       "  </tbody>\n",
       "</table>\n",
       "</div>"
      ],
      "text/plain": [
       "              Open        High          Low        Close     AdjClose  \\\n",
       "count   250.000000   250.00000   250.000000   250.000000   250.000000   \n",
       "mean   3969.242720  3998.85440  3939.132480  3970.570160  3970.570160   \n",
       "std     157.323586   151.78192   162.596673   158.873377   158.873377   \n",
       "min    3520.370000  3608.34000  3491.580000  3577.030000  3577.030000   \n",
       "25%    3852.990000  3890.09250  3817.542500  3854.762500  3854.762500   \n",
       "50%    3977.380000  4008.31500  3944.815000  3978.700000  3978.700000   \n",
       "75%    4105.065000  4136.29000  4084.465000  4109.752500  4109.752500   \n",
       "max    4290.460000  4325.28000  4277.770000  4305.200000  4305.200000   \n",
       "\n",
       "             Volume  \n",
       "count  2.500000e+02  \n",
       "mean   4.304416e+09  \n",
       "std    8.484101e+08  \n",
       "min    1.706460e+09  \n",
       "25%    3.857698e+09  \n",
       "50%    4.143730e+09  \n",
       "75%    4.532708e+09  \n",
       "max    9.354280e+09  "
      ]
     },
     "execution_count": 4,
     "metadata": {},
     "output_type": "execute_result"
    }
   ],
   "source": [
    "df.describe()"
   ]
  },
  {
   "cell_type": "code",
   "execution_count": 5,
   "id": "9504adf5-c0e2-4a22-8aac-49e5337838ab",
   "metadata": {},
   "outputs": [
    {
     "name": "stdout",
     "output_type": "stream",
     "text": [
      "<class 'pandas.core.frame.DataFrame'>\n",
      "RangeIndex: 250 entries, 0 to 249\n",
      "Data columns (total 7 columns):\n",
      " #   Column    Non-Null Count  Dtype  \n",
      "---  ------    --------------  -----  \n",
      " 0   Date      250 non-null    object \n",
      " 1   Open      250 non-null    float64\n",
      " 2   High      250 non-null    float64\n",
      " 3   Low       250 non-null    float64\n",
      " 4   Close     250 non-null    float64\n",
      " 5   AdjClose  250 non-null    float64\n",
      " 6   Volume    250 non-null    int64  \n",
      "dtypes: float64(5), int64(1), object(1)\n",
      "memory usage: 13.8+ KB\n"
     ]
    }
   ],
   "source": [
    "df.info()"
   ]
  },
  {
   "cell_type": "code",
   "execution_count": 6,
   "id": "4b078686-0c44-407b-9490-62330a97d975",
   "metadata": {},
   "outputs": [],
   "source": [
    "x = df[['Open','High','Low','Volume']].values\n",
    "y = df['Close'].values\n"
   ]
  },
  {
   "cell_type": "code",
   "execution_count": 7,
   "id": "dbccd453-145a-422f-8988-bb512dbbf6ab",
   "metadata": {},
   "outputs": [],
   "source": [
    "x_train,x_test,y_train,y_test = train_test_split(x,y,test_size=0.3, random_state = 0)"
   ]
  },
  {
   "cell_type": "code",
   "execution_count": 8,
   "id": "673e8b66-ac82-42ea-8bc4-971a9b854279",
   "metadata": {},
   "outputs": [],
   "source": [
    "regressor = LinearRegression()"
   ]
  },
  {
   "cell_type": "code",
   "execution_count": 9,
   "id": "f6ca30ef-5226-4a8b-85a8-3cf835020cf2",
   "metadata": {},
   "outputs": [
    {
     "data": {
      "text/html": [
       "<style>#sk-container-id-1 {color: black;}#sk-container-id-1 pre{padding: 0;}#sk-container-id-1 div.sk-toggleable {background-color: white;}#sk-container-id-1 label.sk-toggleable__label {cursor: pointer;display: block;width: 100%;margin-bottom: 0;padding: 0.3em;box-sizing: border-box;text-align: center;}#sk-container-id-1 label.sk-toggleable__label-arrow:before {content: \"▸\";float: left;margin-right: 0.25em;color: #696969;}#sk-container-id-1 label.sk-toggleable__label-arrow:hover:before {color: black;}#sk-container-id-1 div.sk-estimator:hover label.sk-toggleable__label-arrow:before {color: black;}#sk-container-id-1 div.sk-toggleable__content {max-height: 0;max-width: 0;overflow: hidden;text-align: left;background-color: #f0f8ff;}#sk-container-id-1 div.sk-toggleable__content pre {margin: 0.2em;color: black;border-radius: 0.25em;background-color: #f0f8ff;}#sk-container-id-1 input.sk-toggleable__control:checked~div.sk-toggleable__content {max-height: 200px;max-width: 100%;overflow: auto;}#sk-container-id-1 input.sk-toggleable__control:checked~label.sk-toggleable__label-arrow:before {content: \"▾\";}#sk-container-id-1 div.sk-estimator input.sk-toggleable__control:checked~label.sk-toggleable__label {background-color: #d4ebff;}#sk-container-id-1 div.sk-label input.sk-toggleable__control:checked~label.sk-toggleable__label {background-color: #d4ebff;}#sk-container-id-1 input.sk-hidden--visually {border: 0;clip: rect(1px 1px 1px 1px);clip: rect(1px, 1px, 1px, 1px);height: 1px;margin: -1px;overflow: hidden;padding: 0;position: absolute;width: 1px;}#sk-container-id-1 div.sk-estimator {font-family: monospace;background-color: #f0f8ff;border: 1px dotted black;border-radius: 0.25em;box-sizing: border-box;margin-bottom: 0.5em;}#sk-container-id-1 div.sk-estimator:hover {background-color: #d4ebff;}#sk-container-id-1 div.sk-parallel-item::after {content: \"\";width: 100%;border-bottom: 1px solid gray;flex-grow: 1;}#sk-container-id-1 div.sk-label:hover label.sk-toggleable__label {background-color: #d4ebff;}#sk-container-id-1 div.sk-serial::before {content: \"\";position: absolute;border-left: 1px solid gray;box-sizing: border-box;top: 0;bottom: 0;left: 50%;z-index: 0;}#sk-container-id-1 div.sk-serial {display: flex;flex-direction: column;align-items: center;background-color: white;padding-right: 0.2em;padding-left: 0.2em;position: relative;}#sk-container-id-1 div.sk-item {position: relative;z-index: 1;}#sk-container-id-1 div.sk-parallel {display: flex;align-items: stretch;justify-content: center;background-color: white;position: relative;}#sk-container-id-1 div.sk-item::before, #sk-container-id-1 div.sk-parallel-item::before {content: \"\";position: absolute;border-left: 1px solid gray;box-sizing: border-box;top: 0;bottom: 0;left: 50%;z-index: -1;}#sk-container-id-1 div.sk-parallel-item {display: flex;flex-direction: column;z-index: 1;position: relative;background-color: white;}#sk-container-id-1 div.sk-parallel-item:first-child::after {align-self: flex-end;width: 50%;}#sk-container-id-1 div.sk-parallel-item:last-child::after {align-self: flex-start;width: 50%;}#sk-container-id-1 div.sk-parallel-item:only-child::after {width: 0;}#sk-container-id-1 div.sk-dashed-wrapped {border: 1px dashed gray;margin: 0 0.4em 0.5em 0.4em;box-sizing: border-box;padding-bottom: 0.4em;background-color: white;}#sk-container-id-1 div.sk-label label {font-family: monospace;font-weight: bold;display: inline-block;line-height: 1.2em;}#sk-container-id-1 div.sk-label-container {text-align: center;}#sk-container-id-1 div.sk-container {/* jupyter's `normalize.less` sets `[hidden] { display: none; }` but bootstrap.min.css set `[hidden] { display: none !important; }` so we also need the `!important` here to be able to override the default hidden behavior on the sphinx rendered scikit-learn.org. See: https://github.com/scikit-learn/scikit-learn/issues/21755 */display: inline-block !important;position: relative;}#sk-container-id-1 div.sk-text-repr-fallback {display: none;}</style><div id=\"sk-container-id-1\" class=\"sk-top-container\"><div class=\"sk-text-repr-fallback\"><pre>LinearRegression()</pre><b>In a Jupyter environment, please rerun this cell to show the HTML representation or trust the notebook. <br />On GitHub, the HTML representation is unable to render, please try loading this page with nbviewer.org.</b></div><div class=\"sk-container\" hidden><div class=\"sk-item\"><div class=\"sk-estimator sk-toggleable\"><input class=\"sk-toggleable__control sk-hidden--visually\" id=\"sk-estimator-id-1\" type=\"checkbox\" checked><label for=\"sk-estimator-id-1\" class=\"sk-toggleable__label sk-toggleable__label-arrow\">LinearRegression</label><div class=\"sk-toggleable__content\"><pre>LinearRegression()</pre></div></div></div></div></div>"
      ],
      "text/plain": [
       "LinearRegression()"
      ]
     },
     "execution_count": 9,
     "metadata": {},
     "output_type": "execute_result"
    }
   ],
   "source": [
    "regressor.fit(x_train,y_train)"
   ]
  },
  {
   "cell_type": "code",
   "execution_count": 10,
   "id": "b53edeff-54d2-43b0-ba3e-f16fe5fd0c45",
   "metadata": {},
   "outputs": [
    {
     "name": "stdout",
     "output_type": "stream",
     "text": [
      "[-7.82297860e-01  8.61579686e-01  9.23706840e-01  5.97785278e-10]\n"
     ]
    }
   ],
   "source": [
    "print(regressor.coef_)"
   ]
  },
  {
   "cell_type": "code",
   "execution_count": 11,
   "id": "a3fd8664-dc50-4e33-8266-2bb0edaf5c34",
   "metadata": {},
   "outputs": [
    {
     "name": "stdout",
     "output_type": "stream",
     "text": [
      "-10.832115170190264\n"
     ]
    }
   ],
   "source": [
    "print(regressor.intercept_)"
   ]
  },
  {
   "cell_type": "code",
   "execution_count": 12,
   "id": "b280ee61-58dd-4128-aca8-23497f40702b",
   "metadata": {},
   "outputs": [],
   "source": [
    "predicted = regressor.predict(x_test)"
   ]
  },
  {
   "cell_type": "code",
   "execution_count": 13,
   "id": "c0d60781-7ce7-4136-a230-7e4cd8bea678",
   "metadata": {},
   "outputs": [],
   "source": [
    "compare = pd.DataFrame({'Orignal': y_test.flatten(),'Predicted': predicted.flatten()})"
   ]
  },
  {
   "cell_type": "code",
   "execution_count": 14,
   "id": "23ea35a1-512f-4439-b946-8e4541394bbf",
   "metadata": {},
   "outputs": [
    {
     "data": {
      "text/html": [
       "<div>\n",
       "<style scoped>\n",
       "    .dataframe tbody tr th:only-of-type {\n",
       "        vertical-align: middle;\n",
       "    }\n",
       "\n",
       "    .dataframe tbody tr th {\n",
       "        vertical-align: top;\n",
       "    }\n",
       "\n",
       "    .dataframe thead th {\n",
       "        text-align: right;\n",
       "    }\n",
       "</style>\n",
       "<table border=\"1\" class=\"dataframe\">\n",
       "  <thead>\n",
       "    <tr style=\"text-align: right;\">\n",
       "      <th></th>\n",
       "      <th>Orignal</th>\n",
       "      <th>Predicted</th>\n",
       "    </tr>\n",
       "  </thead>\n",
       "  <tbody>\n",
       "    <tr>\n",
       "      <th>0</th>\n",
       "      <td>4071.63</td>\n",
       "      <td>4079.458716</td>\n",
       "    </tr>\n",
       "    <tr>\n",
       "      <th>1</th>\n",
       "      <td>4027.26</td>\n",
       "      <td>4030.714821</td>\n",
       "    </tr>\n",
       "    <tr>\n",
       "      <th>2</th>\n",
       "      <td>3577.03</td>\n",
       "      <td>3592.535855</td>\n",
       "    </tr>\n",
       "    <tr>\n",
       "      <th>3</th>\n",
       "      <td>3990.97</td>\n",
       "      <td>4003.224672</td>\n",
       "    </tr>\n",
       "    <tr>\n",
       "      <th>4</th>\n",
       "      <td>3969.61</td>\n",
       "      <td>3964.822312</td>\n",
       "    </tr>\n",
       "    <tr>\n",
       "      <th>5</th>\n",
       "      <td>4019.81</td>\n",
       "      <td>4028.254339</td>\n",
       "    </tr>\n",
       "    <tr>\n",
       "      <th>6</th>\n",
       "      <td>3960.28</td>\n",
       "      <td>3943.097144</td>\n",
       "    </tr>\n",
       "    <tr>\n",
       "      <th>7</th>\n",
       "      <td>3640.47</td>\n",
       "      <td>3619.230661</td>\n",
       "    </tr>\n",
       "    <tr>\n",
       "      <th>8</th>\n",
       "      <td>3955.00</td>\n",
       "      <td>3974.555371</td>\n",
       "    </tr>\n",
       "    <tr>\n",
       "      <th>9</th>\n",
       "      <td>3983.17</td>\n",
       "      <td>3961.717617</td>\n",
       "    </tr>\n",
       "  </tbody>\n",
       "</table>\n",
       "</div>"
      ],
      "text/plain": [
       "   Orignal    Predicted\n",
       "0  4071.63  4079.458716\n",
       "1  4027.26  4030.714821\n",
       "2  3577.03  3592.535855\n",
       "3  3990.97  4003.224672\n",
       "4  3969.61  3964.822312\n",
       "5  4019.81  4028.254339\n",
       "6  3960.28  3943.097144\n",
       "7  3640.47  3619.230661\n",
       "8  3955.00  3974.555371\n",
       "9  3983.17  3961.717617"
      ]
     },
     "execution_count": 14,
     "metadata": {},
     "output_type": "execute_result"
    }
   ],
   "source": [
    "compare.head(10)"
   ]
  },
  {
   "cell_type": "code",
   "execution_count": 15,
   "id": "886e2432-90bf-4542-818b-d0f167d7e58f",
   "metadata": {},
   "outputs": [
    {
     "name": "stdout",
     "output_type": "stream",
     "text": [
      "Mean Absolute Error: 12.809775334557452\n"
     ]
    }
   ],
   "source": [
    "print('Mean Absolute Error:', metrics.mean_absolute_error(y_test, predicted))"
   ]
  },
  {
   "cell_type": "code",
   "execution_count": 16,
   "id": "5c99b3aa-16ea-48d1-8bf7-0a73b4f03400",
   "metadata": {},
   "outputs": [
    {
     "name": "stdout",
     "output_type": "stream",
     "text": [
      "Mean Squared Error: 292.9681113479998\n"
     ]
    }
   ],
   "source": [
    "print('Mean Squared Error:', metrics.mean_squared_error(y_test, predicted))"
   ]
  },
  {
   "cell_type": "code",
   "execution_count": 17,
   "id": "6dfa1ac0-cd94-4592-a8fe-dbd2d4c3ba97",
   "metadata": {},
   "outputs": [
    {
     "name": "stdout",
     "output_type": "stream",
     "text": [
      "Root Mean Squared Error: 17.11631126580724\n"
     ]
    }
   ],
   "source": [
    "print('Root Mean Squared Error:' , math.sqrt(metrics.mean_squared_error(y_test, predicted)))                                                "
   ]
  },
  {
   "cell_type": "code",
   "execution_count": 18,
   "id": "9620061e-a1b3-4acc-9829-11f712f18f63",
   "metadata": {},
   "outputs": [
    {
     "name": "stdout",
     "output_type": "stream",
     "text": [
      "98.73902657952485 %\n"
     ]
    }
   ],
   "source": [
    "r2_score = regressor.score(x_test,y_test)\n",
    "print(r2_score*100,'%')"
   ]
  },
  {
   "cell_type": "code",
   "execution_count": 19,
   "id": "06eaf852-4136-42cf-a745-a9bb29f47ce6",
   "metadata": {},
   "outputs": [],
   "source": [
    "graph = compare.head(20)"
   ]
  },
  {
   "cell_type": "code",
   "execution_count": 20,
   "id": "bf9fc580-bd59-4b73-97e9-d2fc1f505f77",
   "metadata": {},
   "outputs": [
    {
     "data": {
      "text/plain": [
       "<Axes: >"
      ]
     },
     "execution_count": 20,
     "metadata": {},
     "output_type": "execute_result"
    },
    {
     "data": {
      "image/png": "[encoded data removed]",
      "text/plain": [
       "<Figure size 640x480 with 1 Axes>"
      ]
     },
     "metadata": {},
     "output_type": "display_data"
    }
   ],
   "source": [
    "graph.plot(kind='bar')"
   ]
  },
  {
   "cell_type": "code",
   "execution_count": null,
   "id": "e2ca07f2-585f-4659-b73d-98e11240edcf",
   "metadata": {},
   "outputs": [],
   "source": []
  }
 ],
 "metadata": {
  "kernelspec": {
   "display_name": "Python 3 (ipykernel)",
   "language": "python",
   "name": "python3"
  },
  "language_info": {
   "codemirror_mode": {
    "name": "ipython",
    "version": 3
   },
   "file_extension": ".py",
   "mimetype": "text/x-python",
   "name": "python",
   "nbconvert_exporter": "python",
   "pygments_lexer": "ipython3",
   "version": "3.11.5"
  }
 },
 "nbformat": 4,
 "nbformat_minor": 5
}
